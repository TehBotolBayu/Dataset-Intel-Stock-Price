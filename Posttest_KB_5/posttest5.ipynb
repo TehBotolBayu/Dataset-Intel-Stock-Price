{
  "nbformat": 4,
  "nbformat_minor": 0,
  "metadata": {
    "colab": {
      "provenance": [],
      "collapsed_sections": []
    },
    "kernelspec": {
      "name": "python3",
      "display_name": "Python 3"
    },
    "language_info": {
      "name": "python"
    }
  },
  "cells": [
    {
      "cell_type": "markdown",
      "source": [
        "# Mengimport Library\n",
        "\n",
        "Pada model machine learning berikut akan dilakukan regresi untuk memprediksi harga tertinggi dan harga terendah dari perusahaan Intel melalui algoritma linear regression dan support vector regression"
      ],
      "metadata": {
        "id": "hP0mH2dDoOSM"
      }
    },
    {
      "cell_type": "code",
      "execution_count": 94,
      "metadata": {
        "id": "thwqy-2JEaiW"
      },
      "outputs": [],
      "source": [
        "import pandas as pd\n",
        "from sklearn.model_selection import train_test_split\n",
        "from sklearn.linear_model import LinearRegression\n",
        "from sklearn.svm import SVR\n",
        "from sklearn.pipeline import make_pipeline\n",
        "from sklearn.preprocessing import StandardScaler\n",
        "import matplotlib.pyplot as plt\n",
        "import numpy as np\n",
        "from sklearn.metrics import mean_squared_error"
      ]
    },
    {
      "cell_type": "markdown",
      "source": [
        "# Mengimport dataset ke dataframe"
      ],
      "metadata": {
        "id": "RVnOao7eoQvi"
      }
    },
    {
      "cell_type": "code",
      "source": [
        "df = pd.read_csv('/content/INTC.csv')"
      ],
      "metadata": {
        "id": "JNQX8XvAGrBV"
      },
      "execution_count": 95,
      "outputs": []
    },
    {
      "cell_type": "markdown",
      "source": [
        "# Menampilkan 5 data pertama"
      ],
      "metadata": {
        "id": "kLjhTyiYoTpX"
      }
    },
    {
      "cell_type": "code",
      "source": [
        "df.head()"
      ],
      "metadata": {
        "colab": {
          "base_uri": "https://localhost:8080/",
          "height": 206
        },
        "id": "yl1TUPavHm1m",
        "outputId": "9b6473c0-4b98-4dc2-d2b5-86fc1a7ca0f1"
      },
      "execution_count": 96,
      "outputs": [
        {
          "output_type": "execute_result",
          "data": {
            "text/plain": [
              "         Date      Open      High       Low     Close  Adj Close    Volume\n",
              "0  1980-03-17  0.325521  0.330729  0.325521  0.325521   0.199557  10924800\n",
              "1  1980-03-18  0.325521  0.328125  0.322917  0.322917   0.197961  17068800\n",
              "2  1980-03-19  0.330729  0.335938  0.330729  0.330729   0.202750  18508800\n",
              "3  1980-03-20  0.330729  0.334635  0.329427  0.329427   0.201952  11174400\n",
              "4  1980-03-21  0.322917  0.322917  0.317708  0.317708   0.194767  12172800"
            ],
            "text/html": [
              "\n",
              "  <div id=\"df-0799fbe8-93b1-47bd-bee1-5b77dd830d3e\">\n",
              "    <div class=\"colab-df-container\">\n",
              "      <div>\n",
              "<style scoped>\n",
              "    .dataframe tbody tr th:only-of-type {\n",
              "        vertical-align: middle;\n",
              "    }\n",
              "\n",
              "    .dataframe tbody tr th {\n",
              "        vertical-align: top;\n",
              "    }\n",
              "\n",
              "    .dataframe thead th {\n",
              "        text-align: right;\n",
              "    }\n",
              "</style>\n",
              "<table border=\"1\" class=\"dataframe\">\n",
              "  <thead>\n",
              "    <tr style=\"text-align: right;\">\n",
              "      <th></th>\n",
              "      <th>Date</th>\n",
              "      <th>Open</th>\n",
              "      <th>High</th>\n",
              "      <th>Low</th>\n",
              "      <th>Close</th>\n",
              "      <th>Adj Close</th>\n",
              "      <th>Volume</th>\n",
              "    </tr>\n",
              "  </thead>\n",
              "  <tbody>\n",
              "    <tr>\n",
              "      <th>0</th>\n",
              "      <td>1980-03-17</td>\n",
              "      <td>0.325521</td>\n",
              "      <td>0.330729</td>\n",
              "      <td>0.325521</td>\n",
              "      <td>0.325521</td>\n",
              "      <td>0.199557</td>\n",
              "      <td>10924800</td>\n",
              "    </tr>\n",
              "    <tr>\n",
              "      <th>1</th>\n",
              "      <td>1980-03-18</td>\n",
              "      <td>0.325521</td>\n",
              "      <td>0.328125</td>\n",
              "      <td>0.322917</td>\n",
              "      <td>0.322917</td>\n",
              "      <td>0.197961</td>\n",
              "      <td>17068800</td>\n",
              "    </tr>\n",
              "    <tr>\n",
              "      <th>2</th>\n",
              "      <td>1980-03-19</td>\n",
              "      <td>0.330729</td>\n",
              "      <td>0.335938</td>\n",
              "      <td>0.330729</td>\n",
              "      <td>0.330729</td>\n",
              "      <td>0.202750</td>\n",
              "      <td>18508800</td>\n",
              "    </tr>\n",
              "    <tr>\n",
              "      <th>3</th>\n",
              "      <td>1980-03-20</td>\n",
              "      <td>0.330729</td>\n",
              "      <td>0.334635</td>\n",
              "      <td>0.329427</td>\n",
              "      <td>0.329427</td>\n",
              "      <td>0.201952</td>\n",
              "      <td>11174400</td>\n",
              "    </tr>\n",
              "    <tr>\n",
              "      <th>4</th>\n",
              "      <td>1980-03-21</td>\n",
              "      <td>0.322917</td>\n",
              "      <td>0.322917</td>\n",
              "      <td>0.317708</td>\n",
              "      <td>0.317708</td>\n",
              "      <td>0.194767</td>\n",
              "      <td>12172800</td>\n",
              "    </tr>\n",
              "  </tbody>\n",
              "</table>\n",
              "</div>\n",
              "      <button class=\"colab-df-convert\" onclick=\"convertToInteractive('df-0799fbe8-93b1-47bd-bee1-5b77dd830d3e')\"\n",
              "              title=\"Convert this dataframe to an interactive table.\"\n",
              "              style=\"display:none;\">\n",
              "        \n",
              "  <svg xmlns=\"http://www.w3.org/2000/svg\" height=\"24px\"viewBox=\"0 0 24 24\"\n",
              "       width=\"24px\">\n",
              "    <path d=\"M0 0h24v24H0V0z\" fill=\"none\"/>\n",
              "    <path d=\"M18.56 5.44l.94 2.06.94-2.06 2.06-.94-2.06-.94-.94-2.06-.94 2.06-2.06.94zm-11 1L8.5 8.5l.94-2.06 2.06-.94-2.06-.94L8.5 2.5l-.94 2.06-2.06.94zm10 10l.94 2.06.94-2.06 2.06-.94-2.06-.94-.94-2.06-.94 2.06-2.06.94z\"/><path d=\"M17.41 7.96l-1.37-1.37c-.4-.4-.92-.59-1.43-.59-.52 0-1.04.2-1.43.59L10.3 9.45l-7.72 7.72c-.78.78-.78 2.05 0 2.83L4 21.41c.39.39.9.59 1.41.59.51 0 1.02-.2 1.41-.59l7.78-7.78 2.81-2.81c.8-.78.8-2.07 0-2.86zM5.41 20L4 18.59l7.72-7.72 1.47 1.35L5.41 20z\"/>\n",
              "  </svg>\n",
              "      </button>\n",
              "      \n",
              "  <style>\n",
              "    .colab-df-container {\n",
              "      display:flex;\n",
              "      flex-wrap:wrap;\n",
              "      gap: 12px;\n",
              "    }\n",
              "\n",
              "    .colab-df-convert {\n",
              "      background-color: #E8F0FE;\n",
              "      border: none;\n",
              "      border-radius: 50%;\n",
              "      cursor: pointer;\n",
              "      display: none;\n",
              "      fill: #1967D2;\n",
              "      height: 32px;\n",
              "      padding: 0 0 0 0;\n",
              "      width: 32px;\n",
              "    }\n",
              "\n",
              "    .colab-df-convert:hover {\n",
              "      background-color: #E2EBFA;\n",
              "      box-shadow: 0px 1px 2px rgba(60, 64, 67, 0.3), 0px 1px 3px 1px rgba(60, 64, 67, 0.15);\n",
              "      fill: #174EA6;\n",
              "    }\n",
              "\n",
              "    [theme=dark] .colab-df-convert {\n",
              "      background-color: #3B4455;\n",
              "      fill: #D2E3FC;\n",
              "    }\n",
              "\n",
              "    [theme=dark] .colab-df-convert:hover {\n",
              "      background-color: #434B5C;\n",
              "      box-shadow: 0px 1px 3px 1px rgba(0, 0, 0, 0.15);\n",
              "      filter: drop-shadow(0px 1px 2px rgba(0, 0, 0, 0.3));\n",
              "      fill: #FFFFFF;\n",
              "    }\n",
              "  </style>\n",
              "\n",
              "      <script>\n",
              "        const buttonEl =\n",
              "          document.querySelector('#df-0799fbe8-93b1-47bd-bee1-5b77dd830d3e button.colab-df-convert');\n",
              "        buttonEl.style.display =\n",
              "          google.colab.kernel.accessAllowed ? 'block' : 'none';\n",
              "\n",
              "        async function convertToInteractive(key) {\n",
              "          const element = document.querySelector('#df-0799fbe8-93b1-47bd-bee1-5b77dd830d3e');\n",
              "          const dataTable =\n",
              "            await google.colab.kernel.invokeFunction('convertToInteractive',\n",
              "                                                     [key], {});\n",
              "          if (!dataTable) return;\n",
              "\n",
              "          const docLinkHtml = 'Like what you see? Visit the ' +\n",
              "            '<a target=\"_blank\" href=https://colab.research.google.com/notebooks/data_table.ipynb>data table notebook</a>'\n",
              "            + ' to learn more about interactive tables.';\n",
              "          element.innerHTML = '';\n",
              "          dataTable['output_type'] = 'display_data';\n",
              "          await google.colab.output.renderOutput(dataTable, element);\n",
              "          const docLink = document.createElement('div');\n",
              "          docLink.innerHTML = docLinkHtml;\n",
              "          element.appendChild(docLink);\n",
              "        }\n",
              "      </script>\n",
              "    </div>\n",
              "  </div>\n",
              "  "
            ]
          },
          "metadata": {},
          "execution_count": 96
        }
      ]
    },
    {
      "cell_type": "markdown",
      "source": [
        "# Menghilangkan special character dan mengubah tipe data menjadi integer pada data kolom Date agar dapat dilatih ke model"
      ],
      "metadata": {
        "id": "2IxduXQIQ3Iu"
      }
    },
    {
      "cell_type": "code",
      "source": [
        "for i in range(len(df['Date'])):\n",
        "  df['Date'][i] = int(df['Date'][i].replace('-', ''))"
      ],
      "metadata": {
        "colab": {
          "base_uri": "https://localhost:8080/"
        },
        "id": "Qe90UdDtWBUO",
        "outputId": "777ae04b-879e-4424-b123-c5a39ae76789"
      },
      "execution_count": 97,
      "outputs": [
        {
          "output_type": "stream",
          "name": "stderr",
          "text": [
            "/usr/local/lib/python3.7/dist-packages/ipykernel_launcher.py:2: SettingWithCopyWarning: \n",
            "A value is trying to be set on a copy of a slice from a DataFrame\n",
            "\n",
            "See the caveats in the documentation: https://pandas.pydata.org/pandas-docs/stable/user_guide/indexing.html#returning-a-view-versus-a-copy\n",
            "  \n"
          ]
        }
      ]
    },
    {
      "cell_type": "markdown",
      "source": [
        "# Membuat variabel berisi data fitur dan data target\n",
        "Fitur yang akan diambil adalah data tanggal, sementara target atau label yang diambil adalah harga saham tertinggi dan harga saham terendah."
      ],
      "metadata": {
        "id": "zJ9DhZbtRcrk"
      }
    },
    {
      "cell_type": "code",
      "source": [
        "x = df[['Date']]\n",
        "y1 = df[['High']]\n",
        "y2 = df[['Low']]"
      ],
      "metadata": {
        "id": "GiNQYeXuHyMg"
      },
      "execution_count": 98,
      "outputs": []
    },
    {
      "cell_type": "markdown",
      "source": [
        "# Pemisahan data fitur dan target ke data training dan data test"
      ],
      "metadata": {
        "id": "Sl4mUtoUpNyH"
      }
    },
    {
      "cell_type": "code",
      "source": [
        "xtrain, xtest, hitrain, hitest = train_test_split(x, y1, test_size=0.2,shuffle=False, random_state=0)\n",
        "lotrain, lotest = train_test_split(y2, test_size=0.2,shuffle=False, random_state=0)"
      ],
      "metadata": {
        "id": "l6K12zoXH-nM"
      },
      "execution_count": 99,
      "outputs": []
    },
    {
      "cell_type": "markdown",
      "source": [
        "# Linear Regression"
      ],
      "metadata": {
        "id": "RfhT_g-ApVTH"
      }
    },
    {
      "cell_type": "code",
      "source": [
        "modelLinearHi = LinearRegression()\n",
        "modelLinearHi.fit(xtrain, hitrain)\n",
        "modelLinearLo = LinearRegression()\n",
        "modelLinearLo.fit(xtrain, hitrain)"
      ],
      "metadata": {
        "colab": {
          "base_uri": "https://localhost:8080/"
        },
        "id": "dasyLUTdIKb0",
        "outputId": "30561b6b-2c9b-4416-e69a-ea384bbfd17c"
      },
      "execution_count": 100,
      "outputs": [
        {
          "output_type": "execute_result",
          "data": {
            "text/plain": [
              "LinearRegression()"
            ]
          },
          "metadata": {},
          "execution_count": 100
        }
      ]
    },
    {
      "cell_type": "markdown",
      "source": [
        "# Plot grafik dari linear regression dan mean squared error dari model harga saham tertinggi"
      ],
      "metadata": {
        "id": "oQh6FqlhpY9q"
      }
    },
    {
      "cell_type": "code",
      "source": [
        "hipred = modelLinearHi.predict(xtest)\n",
        "print(\"Mean squared error pada data test: %.2f\" % mean_squared_error(hitest, hipred))\n",
        "\n",
        "hipred = modelLinearHi.predict(xtrain)\n",
        "print(\"Mean squared error pada data train: %.2f\" % mean_squared_error(hitrain, hipred))\n",
        "\n",
        "plt.plot(xtrain, hipred, color=\"red\", linewidth=3)\n",
        "plt.scatter(xtrain, hitrain, color='blue', label='nilai aktual', alpha=0.2)\n",
        "plt.title('Harga Saham Tertinggi (Linear Regression)')\n",
        "plt.xlabel('Tahun')\n",
        "plt.ylabel('Harga Saham Tertinggi')\n",
        "plt.show()"
      ],
      "metadata": {
        "colab": {
          "base_uri": "https://localhost:8080/",
          "height": 330
        },
        "id": "Uh_I_oAeY2rV",
        "outputId": "2aeec55b-e195-45e5-dd06-1ea130fc16f2"
      },
      "execution_count": 101,
      "outputs": [
        {
          "output_type": "stream",
          "name": "stdout",
          "text": [
            "Mean squared error pada data test: 120.70\n",
            "Mean squared error pada data train: 94.43\n"
          ]
        },
        {
          "output_type": "display_data",
          "data": {
            "text/plain": [
              "<Figure size 432x288 with 1 Axes>"
            ],
            "image/png": "[encoded data removed]"
          },
          "metadata": {
            "needs_background": "light"
          }
        }
      ]
    },
    {
      "cell_type": "markdown",
      "source": [
        "# Plot grafik dari linear regression dan mean squared error dari model harga saham terendah"
      ],
      "metadata": {
        "id": "yT0rdDHzqPle"
      }
    },
    {
      "cell_type": "code",
      "source": [
        "lopred = modelLinearLo.predict(xtest)\n",
        "print(\"Mean squared error pada data test: %.2f\" % mean_squared_error(lotest, lopred))\n",
        "\n",
        "lopred = modelLinearLo.predict(xtrain)\n",
        "print(\"Mean squared error pada data train: %.2f\" % mean_squared_error(lotrain, lopred))\n",
        "\n",
        "plt.plot(xtrain, lopred, color=\"red\", linewidth=3)\n",
        "plt.scatter(xtrain, lotrain, color='blue', label='nilai aktual', alpha=0.2)\n",
        "plt.title('Harga Saham Terendah (Linear Regression)')\n",
        "plt.xlabel('Tahun')\n",
        "plt.ylabel('Harga Saham Terendah')\n",
        "plt.show()"
      ],
      "metadata": {
        "colab": {
          "base_uri": "https://localhost:8080/",
          "height": 330
        },
        "id": "tQJZUxNWqJ4S",
        "outputId": "759917c7-905b-41ee-94a3-edc3e4e464d6"
      },
      "execution_count": 102,
      "outputs": [
        {
          "output_type": "stream",
          "name": "stdout",
          "text": [
            "Mean squared error pada data test: 105.52\n",
            "Mean squared error pada data train: 86.36\n"
          ]
        },
        {
          "output_type": "display_data",
          "data": {
            "text/plain": [
              "<Figure size 432x288 with 1 Axes>"
            ],
            "image/png": "[encoded data removed]"
          },
          "metadata": {
            "needs_background": "light"
          }
        }
      ]
    },
    {
      "cell_type": "markdown",
      "source": [
        "# Support Vector Regression"
      ],
      "metadata": {
        "id": "c0hZExParJWv"
      }
    },
    {
      "cell_type": "code",
      "source": [
        "modelSVRHi = make_pipeline(StandardScaler(), SVR(C=1.0, epsilon=0.2))\n",
        "modelSVRHi.fit(xtrain, hitrain)\n",
        "modelSVRLo = make_pipeline(StandardScaler(), SVR(C=1.0, epsilon=0.2))\n",
        "modelSVRLo.fit(xtrain, lotrain)"
      ],
      "metadata": {
        "colab": {
          "base_uri": "https://localhost:8080/"
        },
        "id": "dDk3GajtadRD",
        "outputId": "73fa3d03-d39c-476c-a34f-4c06c212aa38"
      },
      "execution_count": 103,
      "outputs": [
        {
          "output_type": "stream",
          "name": "stderr",
          "text": [
            "/usr/local/lib/python3.7/dist-packages/sklearn/utils/validation.py:993: DataConversionWarning: A column-vector y was passed when a 1d array was expected. Please change the shape of y to (n_samples, ), for example using ravel().\n",
            "  y = column_or_1d(y, warn=True)\n",
            "/usr/local/lib/python3.7/dist-packages/sklearn/utils/validation.py:993: DataConversionWarning: A column-vector y was passed when a 1d array was expected. Please change the shape of y to (n_samples, ), for example using ravel().\n",
            "  y = column_or_1d(y, warn=True)\n"
          ]
        },
        {
          "output_type": "execute_result",
          "data": {
            "text/plain": [
              "Pipeline(steps=[('standardscaler', StandardScaler()),\n",
              "                ('svr', SVR(epsilon=0.2))])"
            ]
          },
          "metadata": {},
          "execution_count": 103
        }
      ]
    },
    {
      "cell_type": "markdown",
      "source": [],
      "metadata": {
        "id": "TyxbsP3YrNfA"
      }
    },
    {
      "cell_type": "markdown",
      "source": [
        "# Plot grafik dari support vector regression dan mean squared error dari model harga saham tertinggi"
      ],
      "metadata": {
        "id": "qFVw9XFerPYX"
      }
    },
    {
      "cell_type": "code",
      "source": [
        "hipred = modelSVRHi.predict(xtest)\n",
        "print(\"Mean squared error pada data test: %.2f\" % mean_squared_error(hitest, hipred))\n",
        "\n",
        "hipred = modelSVRHi.predict(xtrain)\n",
        "print(\"Mean squared error pada data train: %.2f\" % mean_squared_error(hitrain, hipred))\n",
        "\n",
        "plt.plot(xtrain, hipred, color = 'red', linewidth=3)\n",
        "plt.scatter(xtrain, hitrain, color='blue', label='nilai aktual', alpha=0.2)\n",
        "\n",
        "plt.title('Harga Saham Tertinggi (SVR)')\n",
        "plt.xlabel('Tahun')\n",
        "plt.ylabel('Harga Saham Tertinggi')\n",
        "plt.show()\n"
      ],
      "metadata": {
        "colab": {
          "base_uri": "https://localhost:8080/",
          "height": 330
        },
        "id": "G4AWhGB-WRTd",
        "outputId": "48709653-877a-4282-be91-bd6c0277118d"
      },
      "execution_count": 104,
      "outputs": [
        {
          "output_type": "stream",
          "name": "stdout",
          "text": [
            "Mean squared error pada data test: 258.45\n",
            "Mean squared error pada data train: 41.22\n"
          ]
        },
        {
          "output_type": "display_data",
          "data": {
            "text/plain": [
              "<Figure size 432x288 with 1 Axes>"
            ],
            "image/png": "[encoded data removed]"
          },
          "metadata": {
            "needs_background": "light"
          }
        }
      ]
    },
    {
      "cell_type": "markdown",
      "source": [
        "# Plot grafik dari support vector regression dan mean squared error dari model harga saham terendah"
      ],
      "metadata": {
        "id": "XdLJhZ8OrTsW"
      }
    },
    {
      "cell_type": "code",
      "source": [
        "lopred = modelSVRLo.predict(xtest)\n",
        "print(\"Mean squared error pada data test: %.2f\" % mean_squared_error(lotest, lopred))\n",
        "\n",
        "lopred = modelSVRLo.predict(xtrain)\n",
        "print(\"Mean squared error pada data train: %.2f\" % mean_squared_error(lotrain, lopred))\n",
        "\n",
        "plt.plot(xtrain, lopred, color = 'red', linewidth=3)\n",
        "plt.scatter(xtrain, lotrain, color='blue', label='nilai aktual', alpha=0.2)\n",
        "\n",
        "plt.title('Harga Saham Terendah (SVR)')\n",
        "plt.xlabel('Tahun')\n",
        "plt.ylabel('Harga Saham Terendah')\n",
        "plt.show()\n"
      ],
      "metadata": {
        "colab": {
          "base_uri": "https://localhost:8080/",
          "height": 330
        },
        "id": "A17gkHm1rmoI",
        "outputId": "2fff1001-268f-48fc-c9f4-af42c31ce56f"
      },
      "execution_count": 105,
      "outputs": [
        {
          "output_type": "stream",
          "name": "stdout",
          "text": [
            "Mean squared error pada data test: 245.95\n",
            "Mean squared error pada data train: 37.86\n"
          ]
        },
        {
          "output_type": "display_data",
          "data": {
            "text/plain": [
              "<Figure size 432x288 with 1 Axes>"
            ],
            "image/png": "[encoded data removed]"
          },
          "metadata": {
            "needs_background": "light"
          }
        }
      ]
    }
  ]
}