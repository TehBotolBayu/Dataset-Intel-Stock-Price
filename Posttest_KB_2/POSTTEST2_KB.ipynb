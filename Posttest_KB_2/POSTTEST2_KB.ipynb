{
  "nbformat": 4,
  "nbformat_minor": 0,
  "metadata": {
    "colab": {
      "provenance": []
    },
    "kernelspec": {
      "name": "python3",
      "display_name": "Python 3"
    },
    "language_info": {
      "name": "python"
    }
  },
  "cells": [
    {
      "cell_type": "markdown",
      "source": [
        "# 1. Melakukan import library pandas"
      ],
      "metadata": {
        "id": "ElehR06bjO7X"
      }
    },
    {
      "cell_type": "code",
      "execution_count": 1,
      "metadata": {
        "id": "sOxvFVQiin7Y"
      },
      "outputs": [],
      "source": [
        "import pandas as pd\n"
      ]
    },
    {
      "cell_type": "markdown",
      "source": [
        "# 2. Mendownload file csv"
      ],
      "metadata": {
        "id": "4IBzLhtAlmF8"
      }
    },
    {
      "cell_type": "code",
      "source": [
        "!wget --no-check-certificate \\\n",
        "  https://raw.githubusercontent.com/TehBotolBayu/Praktikum_KB/main/Posttest_KB_2/INTC.csv \\\n",
        "  -O /content/INTC.csv"
      ],
      "metadata": {
        "colab": {
          "base_uri": "https://localhost:8080/"
        },
        "id": "487EQW7ij0Eg",
        "outputId": "e4ba8299-b1b4-4c7a-b014-5a4251c69959"
      },
      "execution_count": 2,
      "outputs": [
        {
          "output_type": "stream",
          "name": "stdout",
          "text": [
            "--2022-09-27 13:57:37--  https://raw.githubusercontent.com/TehBotolBayu/Praktikum_KB/main/Posttest_KB_2/INTC.csv\n",
            "Resolving raw.githubusercontent.com (raw.githubusercontent.com)... 185.199.108.133, 185.199.109.133, 185.199.110.133, ...\n",
            "Connecting to raw.githubusercontent.com (raw.githubusercontent.com)|185.199.108.133|:443... connected.\n",
            "HTTP request sent, awaiting response... 200 OK\n",
            "Length: 1037124 (1013K) [text/plain]\n",
            "Saving to: ‘/content/INTC.csv’\n",
            "\n",
            "/content/INTC.csv   100%[===================>]   1013K  --.-KB/s    in 0.05s   \n",
            "\n",
            "2022-09-27 13:57:38 (19.3 MB/s) - ‘/content/INTC.csv’ saved [1037124/1037124]\n",
            "\n"
          ]
        }
      ]
    },
    {
      "cell_type": "markdown",
      "source": [
        "# 3. Mengubah file csv ke dalam pandas dataframe"
      ],
      "metadata": {
        "id": "miqWfIijls9C"
      }
    },
    {
      "cell_type": "code",
      "source": [
        "df = pd.read_csv('/content/INTC.csv')\n"
      ],
      "metadata": {
        "id": "0tv42Fffj144"
      },
      "execution_count": 3,
      "outputs": []
    },
    {
      "cell_type": "markdown",
      "source": [
        "# 4. Deklarasi dictionary kosong"
      ],
      "metadata": {
        "id": "bGO8n8DIl2LJ"
      }
    },
    {
      "cell_type": "code",
      "source": [
        "data = {}"
      ],
      "metadata": {
        "id": "ZttpBF4AlFGM"
      },
      "execution_count": 4,
      "outputs": []
    },
    {
      "cell_type": "markdown",
      "source": [
        "# 5. Jumlah record dari dataset"
      ],
      "metadata": {
        "id": "iO42qcm9l6Pb"
      }
    },
    {
      "cell_type": "code",
      "source": [
        "data['jumlah_record'] = len(df)\n",
        "print(data['jumlah_record'])"
      ],
      "metadata": {
        "colab": {
          "base_uri": "https://localhost:8080/"
        },
        "id": "PVujlFqckuZW",
        "outputId": "5028f9b7-7ae5-4f02-e0c9-92ef254eaafe"
      },
      "execution_count": 5,
      "outputs": [
        {
          "output_type": "stream",
          "name": "stdout",
          "text": [
            "10361\n"
          ]
        }
      ]
    },
    {
      "cell_type": "markdown",
      "source": [
        "# 6. Daftar nama atribut"
      ],
      "metadata": {
        "id": "1x2yd1YKmCen"
      }
    },
    {
      "cell_type": "code",
      "source": [
        "data['nama_atribut'] = list(df.columns)\n",
        "print(data['nama_atribut'])"
      ],
      "metadata": {
        "colab": {
          "base_uri": "https://localhost:8080/"
        },
        "id": "wcYc-KVQlozo",
        "outputId": "dbda2654-f8d1-477f-d4eb-5cf6bf891704"
      },
      "execution_count": 6,
      "outputs": [
        {
          "output_type": "stream",
          "name": "stdout",
          "text": [
            "['Date', 'Open', 'High', 'Low', 'Close', 'Adj Close', 'Volume']\n"
          ]
        }
      ]
    },
    {
      "cell_type": "markdown",
      "source": [
        "# 7. Jumlah atribut"
      ],
      "metadata": {
        "id": "Fl3M1SSXmHZt"
      }
    },
    {
      "cell_type": "code",
      "source": [
        "data['jumlah_atribut'] = len(df.columns)\n",
        "print(data['jumlah_atribut'])"
      ],
      "metadata": {
        "colab": {
          "base_uri": "https://localhost:8080/"
        },
        "id": "fKNqzXnNmBE_",
        "outputId": "c0f84582-4014-48c8-922d-63839da41f21"
      },
      "execution_count": 7,
      "outputs": [
        {
          "output_type": "stream",
          "name": "stdout",
          "text": [
            "7\n"
          ]
        }
      ]
    },
    {
      "cell_type": "markdown",
      "source": [
        "# 8. Jumlah atribut bertipe objek"
      ],
      "metadata": {
        "id": "xLG7LyzbmM_k"
      }
    },
    {
      "cell_type": "code",
      "source": [
        "objek = df.select_dtypes(include=['object']).columns\n",
        "data['tipe_objek']=len(objek)\n",
        "print(data['tipe_objek'])"
      ],
      "metadata": {
        "colab": {
          "base_uri": "https://localhost:8080/"
        },
        "id": "7lGOVyK5mS5x",
        "outputId": "21c9d94d-d6d4-4a6d-c3db-8d1327bf73c1"
      },
      "execution_count": 8,
      "outputs": [
        {
          "output_type": "stream",
          "name": "stdout",
          "text": [
            "1\n"
          ]
        }
      ]
    },
    {
      "cell_type": "markdown",
      "source": [
        "# 9. Jumlah atribut bertipe angka"
      ],
      "metadata": {
        "id": "v5l6IVzfmf3H"
      }
    },
    {
      "cell_type": "code",
      "source": [
        "angka = df.select_dtypes(include=['float64', 'int64']).columns\n",
        "data['tipe_angka']=len(angka)\n",
        "print(data['tipe_angka'])"
      ],
      "metadata": {
        "colab": {
          "base_uri": "https://localhost:8080/"
        },
        "id": "b0acGFwCmSbu",
        "outputId": "b23447e9-6c60-47fa-ca18-dbda5e1be1b9"
      },
      "execution_count": 9,
      "outputs": [
        {
          "output_type": "stream",
          "name": "stdout",
          "text": [
            "6\n"
          ]
        }
      ]
    },
    {
      "cell_type": "markdown",
      "source": [
        "# 10. Jumlah atribut bertipe null"
      ],
      "metadata": {
        "id": "cKKuitkRmkHc"
      }
    },
    {
      "cell_type": "code",
      "source": [
        "null = df.columns[df.isna().any()].tolist()\n",
        "data['tipe_null']=len(null)\n",
        "print(data['tipe_null'])"
      ],
      "metadata": {
        "colab": {
          "base_uri": "https://localhost:8080/"
        },
        "id": "GP6HcfQBma_6",
        "outputId": "6f12faac-4430-47ba-aec5-d7974d50d82f"
      },
      "execution_count": 10,
      "outputs": [
        {
          "output_type": "stream",
          "name": "stdout",
          "text": [
            "0\n"
          ]
        }
      ]
    },
    {
      "cell_type": "markdown",
      "source": [
        "# 11. Menampilkan dictionary berisi informasi dataset"
      ],
      "metadata": {
        "id": "whJMxgKOmjfa"
      }
    },
    {
      "cell_type": "code",
      "source": [
        "print('------------------------------------------------------------------------------------------')\n",
        "print('Key\\t\\t\\t| Value')\n",
        "print('------------------------------------------------------------------------------------------')\n",
        "for i in data:\n",
        "  print(i, end='\\t\\t| ')\n",
        "  print(data[i])\n",
        "print('------------------------------------------------------------------------------------------')"
      ],
      "metadata": {
        "colab": {
          "base_uri": "https://localhost:8080/"
        },
        "id": "GVdXjTN-la4E",
        "outputId": "4a17c63d-d2ec-4097-de10-2d74c4b870c9"
      },
      "execution_count": 11,
      "outputs": [
        {
          "output_type": "stream",
          "name": "stdout",
          "text": [
            "------------------------------------------------------------------------------------------\n",
            "Key\t\t\t| Value\n",
            "------------------------------------------------------------------------------------------\n",
            "jumlah_record\t\t| 10361\n",
            "nama_atribut\t\t| ['Date', 'Open', 'High', 'Low', 'Close', 'Adj Close', 'Volume']\n",
            "jumlah_atribut\t\t| 7\n",
            "tipe_objek\t\t| 1\n",
            "tipe_angka\t\t| 6\n",
            "tipe_null\t\t| 0\n",
            "------------------------------------------------------------------------------------------\n"
          ]
        }
      ]
    },
    {
      "cell_type": "markdown",
      "source": [
        "# 12. Menampilkan nilai mean, standard deviation, minimum, maximum, quartile 1, quartile 2, quartile 3, dari atribut bertipe angka"
      ],
      "metadata": {
        "id": "JCkNNl42qI_M"
      }
    },
    {
      "cell_type": "code",
      "source": [
        "df.describe()"
      ],
      "metadata": {
        "id": "8fJGAoaxYIzL",
        "colab": {
          "base_uri": "https://localhost:8080/",
          "height": 300
        },
        "outputId": "9889fd4c-5ce1-4be3-cf13-2f1a8fc48c50"
      },
      "execution_count": 12,
      "outputs": [
        {
          "output_type": "execute_result",
          "data": {
            "text/plain": [
              "               Open          High           Low         Close     Adj Close  \\\n",
              "count  10361.000000  10361.000000  10361.000000  10361.000000  10361.000000   \n",
              "mean      18.727894     18.988562     18.473001     18.728650     14.346493   \n",
              "std       16.999345     17.245786     16.766148     17.001751     14.824049   \n",
              "min        0.218750      0.218750      0.216146      0.216146      0.132506   \n",
              "25%        1.203125      1.226563      1.187500      1.207031      0.739958   \n",
              "50%       19.593750     19.870001     19.350000     19.580000     12.944845   \n",
              "75%       28.450001     28.875000     27.990000     28.420000     19.719311   \n",
              "max       75.625000     75.828125     73.625000     74.875000     68.260002   \n",
              "\n",
              "             Volume  \n",
              "count  1.036100e+04  \n",
              "mean   5.129002e+07  \n",
              "std    3.537224e+07  \n",
              "min    0.000000e+00  \n",
              "25%    2.725010e+07  \n",
              "50%    4.561580e+07  \n",
              "75%    6.564030e+07  \n",
              "max    5.677088e+08  "
            ],
            "text/html": [
              "\n",
              "  <div id=\"df-34bcbfce-9839-41d0-bd81-ff68ab14239f\">\n",
              "    <div class=\"colab-df-container\">\n",
              "      <div>\n",
              "<style scoped>\n",
              "    .dataframe tbody tr th:only-of-type {\n",
              "        vertical-align: middle;\n",
              "    }\n",
              "\n",
              "    .dataframe tbody tr th {\n",
              "        vertical-align: top;\n",
              "    }\n",
              "\n",
              "    .dataframe thead th {\n",
              "        text-align: right;\n",
              "    }\n",
              "</style>\n",
              "<table border=\"1\" class=\"dataframe\">\n",
              "  <thead>\n",
              "    <tr style=\"text-align: right;\">\n",
              "      <th></th>\n",
              "      <th>Open</th>\n",
              "      <th>High</th>\n",
              "      <th>Low</th>\n",
              "      <th>Close</th>\n",
              "      <th>Adj Close</th>\n",
              "      <th>Volume</th>\n",
              "    </tr>\n",
              "  </thead>\n",
              "  <tbody>\n",
              "    <tr>\n",
              "      <th>count</th>\n",
              "      <td>10361.000000</td>\n",
              "      <td>10361.000000</td>\n",
              "      <td>10361.000000</td>\n",
              "      <td>10361.000000</td>\n",
              "      <td>10361.000000</td>\n",
              "      <td>1.036100e+04</td>\n",
              "    </tr>\n",
              "    <tr>\n",
              "      <th>mean</th>\n",
              "      <td>18.727894</td>\n",
              "      <td>18.988562</td>\n",
              "      <td>18.473001</td>\n",
              "      <td>18.728650</td>\n",
              "      <td>14.346493</td>\n",
              "      <td>5.129002e+07</td>\n",
              "    </tr>\n",
              "    <tr>\n",
              "      <th>std</th>\n",
              "      <td>16.999345</td>\n",
              "      <td>17.245786</td>\n",
              "      <td>16.766148</td>\n",
              "      <td>17.001751</td>\n",
              "      <td>14.824049</td>\n",
              "      <td>3.537224e+07</td>\n",
              "    </tr>\n",
              "    <tr>\n",
              "      <th>min</th>\n",
              "      <td>0.218750</td>\n",
              "      <td>0.218750</td>\n",
              "      <td>0.216146</td>\n",
              "      <td>0.216146</td>\n",
              "      <td>0.132506</td>\n",
              "      <td>0.000000e+00</td>\n",
              "    </tr>\n",
              "    <tr>\n",
              "      <th>25%</th>\n",
              "      <td>1.203125</td>\n",
              "      <td>1.226563</td>\n",
              "      <td>1.187500</td>\n",
              "      <td>1.207031</td>\n",
              "      <td>0.739958</td>\n",
              "      <td>2.725010e+07</td>\n",
              "    </tr>\n",
              "    <tr>\n",
              "      <th>50%</th>\n",
              "      <td>19.593750</td>\n",
              "      <td>19.870001</td>\n",
              "      <td>19.350000</td>\n",
              "      <td>19.580000</td>\n",
              "      <td>12.944845</td>\n",
              "      <td>4.561580e+07</td>\n",
              "    </tr>\n",
              "    <tr>\n",
              "      <th>75%</th>\n",
              "      <td>28.450001</td>\n",
              "      <td>28.875000</td>\n",
              "      <td>27.990000</td>\n",
              "      <td>28.420000</td>\n",
              "      <td>19.719311</td>\n",
              "      <td>6.564030e+07</td>\n",
              "    </tr>\n",
              "    <tr>\n",
              "      <th>max</th>\n",
              "      <td>75.625000</td>\n",
              "      <td>75.828125</td>\n",
              "      <td>73.625000</td>\n",
              "      <td>74.875000</td>\n",
              "      <td>68.260002</td>\n",
              "      <td>5.677088e+08</td>\n",
              "    </tr>\n",
              "  </tbody>\n",
              "</table>\n",
              "</div>\n",
              "      <button class=\"colab-df-convert\" onclick=\"convertToInteractive('df-34bcbfce-9839-41d0-bd81-ff68ab14239f')\"\n",
              "              title=\"Convert this dataframe to an interactive table.\"\n",
              "              style=\"display:none;\">\n",
              "        \n",
              "  <svg xmlns=\"http://www.w3.org/2000/svg\" height=\"24px\"viewBox=\"0 0 24 24\"\n",
              "       width=\"24px\">\n",
              "    <path d=\"M0 0h24v24H0V0z\" fill=\"none\"/>\n",
              "    <path d=\"M18.56 5.44l.94 2.06.94-2.06 2.06-.94-2.06-.94-.94-2.06-.94 2.06-2.06.94zm-11 1L8.5 8.5l.94-2.06 2.06-.94-2.06-.94L8.5 2.5l-.94 2.06-2.06.94zm10 10l.94 2.06.94-2.06 2.06-.94-2.06-.94-.94-2.06-.94 2.06-2.06.94z\"/><path d=\"M17.41 7.96l-1.37-1.37c-.4-.4-.92-.59-1.43-.59-.52 0-1.04.2-1.43.59L10.3 9.45l-7.72 7.72c-.78.78-.78 2.05 0 2.83L4 21.41c.39.39.9.59 1.41.59.51 0 1.02-.2 1.41-.59l7.78-7.78 2.81-2.81c.8-.78.8-2.07 0-2.86zM5.41 20L4 18.59l7.72-7.72 1.47 1.35L5.41 20z\"/>\n",
              "  </svg>\n",
              "      </button>\n",
              "      \n",
              "  <style>\n",
              "    .colab-df-container {\n",
              "      display:flex;\n",
              "      flex-wrap:wrap;\n",
              "      gap: 12px;\n",
              "    }\n",
              "\n",
              "    .colab-df-convert {\n",
              "      background-color: #E8F0FE;\n",
              "      border: none;\n",
              "      border-radius: 50%;\n",
              "      cursor: pointer;\n",
              "      display: none;\n",
              "      fill: #1967D2;\n",
              "      height: 32px;\n",
              "      padding: 0 0 0 0;\n",
              "      width: 32px;\n",
              "    }\n",
              "\n",
              "    .colab-df-convert:hover {\n",
              "      background-color: #E2EBFA;\n",
              "      box-shadow: 0px 1px 2px rgba(60, 64, 67, 0.3), 0px 1px 3px 1px rgba(60, 64, 67, 0.15);\n",
              "      fill: #174EA6;\n",
              "    }\n",
              "\n",
              "    [theme=dark] .colab-df-convert {\n",
              "      background-color: #3B4455;\n",
              "      fill: #D2E3FC;\n",
              "    }\n",
              "\n",
              "    [theme=dark] .colab-df-convert:hover {\n",
              "      background-color: #434B5C;\n",
              "      box-shadow: 0px 1px 3px 1px rgba(0, 0, 0, 0.15);\n",
              "      filter: drop-shadow(0px 1px 2px rgba(0, 0, 0, 0.3));\n",
              "      fill: #FFFFFF;\n",
              "    }\n",
              "  </style>\n",
              "\n",
              "      <script>\n",
              "        const buttonEl =\n",
              "          document.querySelector('#df-34bcbfce-9839-41d0-bd81-ff68ab14239f button.colab-df-convert');\n",
              "        buttonEl.style.display =\n",
              "          google.colab.kernel.accessAllowed ? 'block' : 'none';\n",
              "\n",
              "        async function convertToInteractive(key) {\n",
              "          const element = document.querySelector('#df-34bcbfce-9839-41d0-bd81-ff68ab14239f');\n",
              "          const dataTable =\n",
              "            await google.colab.kernel.invokeFunction('convertToInteractive',\n",
              "                                                     [key], {});\n",
              "          if (!dataTable) return;\n",
              "\n",
              "          const docLinkHtml = 'Like what you see? Visit the ' +\n",
              "            '<a target=\"_blank\" href=https://colab.research.google.com/notebooks/data_table.ipynb>data table notebook</a>'\n",
              "            + ' to learn more about interactive tables.';\n",
              "          element.innerHTML = '';\n",
              "          dataTable['output_type'] = 'display_data';\n",
              "          await google.colab.output.renderOutput(dataTable, element);\n",
              "          const docLink = document.createElement('div');\n",
              "          docLink.innerHTML = docLinkHtml;\n",
              "          element.appendChild(docLink);\n",
              "        }\n",
              "      </script>\n",
              "    </div>\n",
              "  </div>\n",
              "  "
            ]
          },
          "metadata": {},
          "execution_count": 12
        }
      ]
    },
    {
      "cell_type": "markdown",
      "source": [
        "# 13. Menampilkan nilai korelasi"
      ],
      "metadata": {
        "id": "93JHIOACqbOW"
      }
    },
    {
      "cell_type": "code",
      "source": [
        "df.corr(method='pearson')"
      ],
      "metadata": {
        "colab": {
          "base_uri": "https://localhost:8080/",
          "height": 238
        },
        "id": "ZLihfCswbYb1",
        "outputId": "d5b98556-6a9e-4094-d7f1-ce3d54f24f22"
      },
      "execution_count": 13,
      "outputs": [
        {
          "output_type": "execute_result",
          "data": {
            "text/plain": [
              "               Open      High       Low     Close  Adj Close    Volume\n",
              "Open       1.000000  0.999787  0.999783  0.999562   0.969008 -0.136930\n",
              "High       0.999787  1.000000  0.999660  0.999762   0.968094 -0.133901\n",
              "Low        0.999783  0.999660  1.000000  0.999783   0.970417 -0.140436\n",
              "Close      0.999562  0.999762  0.999783  1.000000   0.969598 -0.137259\n",
              "Adj Close  0.969008  0.968094  0.970417  0.969598   1.000000 -0.198231\n",
              "Volume    -0.136930 -0.133901 -0.140436 -0.137259  -0.198231  1.000000"
            ],
            "text/html": [
              "\n",
              "  <div id=\"df-aef442d4-b300-4cad-949d-82391c863cce\">\n",
              "    <div class=\"colab-df-container\">\n",
              "      <div>\n",
              "<style scoped>\n",
              "    .dataframe tbody tr th:only-of-type {\n",
              "        vertical-align: middle;\n",
              "    }\n",
              "\n",
              "    .dataframe tbody tr th {\n",
              "        vertical-align: top;\n",
              "    }\n",
              "\n",
              "    .dataframe thead th {\n",
              "        text-align: right;\n",
              "    }\n",
              "</style>\n",
              "<table border=\"1\" class=\"dataframe\">\n",
              "  <thead>\n",
              "    <tr style=\"text-align: right;\">\n",
              "      <th></th>\n",
              "      <th>Open</th>\n",
              "      <th>High</th>\n",
              "      <th>Low</th>\n",
              "      <th>Close</th>\n",
              "      <th>Adj Close</th>\n",
              "      <th>Volume</th>\n",
              "    </tr>\n",
              "  </thead>\n",
              "  <tbody>\n",
              "    <tr>\n",
              "      <th>Open</th>\n",
              "      <td>1.000000</td>\n",
              "      <td>0.999787</td>\n",
              "      <td>0.999783</td>\n",
              "      <td>0.999562</td>\n",
              "      <td>0.969008</td>\n",
              "      <td>-0.136930</td>\n",
              "    </tr>\n",
              "    <tr>\n",
              "      <th>High</th>\n",
              "      <td>0.999787</td>\n",
              "      <td>1.000000</td>\n",
              "      <td>0.999660</td>\n",
              "      <td>0.999762</td>\n",
              "      <td>0.968094</td>\n",
              "      <td>-0.133901</td>\n",
              "    </tr>\n",
              "    <tr>\n",
              "      <th>Low</th>\n",
              "      <td>0.999783</td>\n",
              "      <td>0.999660</td>\n",
              "      <td>1.000000</td>\n",
              "      <td>0.999783</td>\n",
              "      <td>0.970417</td>\n",
              "      <td>-0.140436</td>\n",
              "    </tr>\n",
              "    <tr>\n",
              "      <th>Close</th>\n",
              "      <td>0.999562</td>\n",
              "      <td>0.999762</td>\n",
              "      <td>0.999783</td>\n",
              "      <td>1.000000</td>\n",
              "      <td>0.969598</td>\n",
              "      <td>-0.137259</td>\n",
              "    </tr>\n",
              "    <tr>\n",
              "      <th>Adj Close</th>\n",
              "      <td>0.969008</td>\n",
              "      <td>0.968094</td>\n",
              "      <td>0.970417</td>\n",
              "      <td>0.969598</td>\n",
              "      <td>1.000000</td>\n",
              "      <td>-0.198231</td>\n",
              "    </tr>\n",
              "    <tr>\n",
              "      <th>Volume</th>\n",
              "      <td>-0.136930</td>\n",
              "      <td>-0.133901</td>\n",
              "      <td>-0.140436</td>\n",
              "      <td>-0.137259</td>\n",
              "      <td>-0.198231</td>\n",
              "      <td>1.000000</td>\n",
              "    </tr>\n",
              "  </tbody>\n",
              "</table>\n",
              "</div>\n",
              "      <button class=\"colab-df-convert\" onclick=\"convertToInteractive('df-aef442d4-b300-4cad-949d-82391c863cce')\"\n",
              "              title=\"Convert this dataframe to an interactive table.\"\n",
              "              style=\"display:none;\">\n",
              "        \n",
              "  <svg xmlns=\"http://www.w3.org/2000/svg\" height=\"24px\"viewBox=\"0 0 24 24\"\n",
              "       width=\"24px\">\n",
              "    <path d=\"M0 0h24v24H0V0z\" fill=\"none\"/>\n",
              "    <path d=\"M18.56 5.44l.94 2.06.94-2.06 2.06-.94-2.06-.94-.94-2.06-.94 2.06-2.06.94zm-11 1L8.5 8.5l.94-2.06 2.06-.94-2.06-.94L8.5 2.5l-.94 2.06-2.06.94zm10 10l.94 2.06.94-2.06 2.06-.94-2.06-.94-.94-2.06-.94 2.06-2.06.94z\"/><path d=\"M17.41 7.96l-1.37-1.37c-.4-.4-.92-.59-1.43-.59-.52 0-1.04.2-1.43.59L10.3 9.45l-7.72 7.72c-.78.78-.78 2.05 0 2.83L4 21.41c.39.39.9.59 1.41.59.51 0 1.02-.2 1.41-.59l7.78-7.78 2.81-2.81c.8-.78.8-2.07 0-2.86zM5.41 20L4 18.59l7.72-7.72 1.47 1.35L5.41 20z\"/>\n",
              "  </svg>\n",
              "      </button>\n",
              "      \n",
              "  <style>\n",
              "    .colab-df-container {\n",
              "      display:flex;\n",
              "      flex-wrap:wrap;\n",
              "      gap: 12px;\n",
              "    }\n",
              "\n",
              "    .colab-df-convert {\n",
              "      background-color: #E8F0FE;\n",
              "      border: none;\n",
              "      border-radius: 50%;\n",
              "      cursor: pointer;\n",
              "      display: none;\n",
              "      fill: #1967D2;\n",
              "      height: 32px;\n",
              "      padding: 0 0 0 0;\n",
              "      width: 32px;\n",
              "    }\n",
              "\n",
              "    .colab-df-convert:hover {\n",
              "      background-color: #E2EBFA;\n",
              "      box-shadow: 0px 1px 2px rgba(60, 64, 67, 0.3), 0px 1px 3px 1px rgba(60, 64, 67, 0.15);\n",
              "      fill: #174EA6;\n",
              "    }\n",
              "\n",
              "    [theme=dark] .colab-df-convert {\n",
              "      background-color: #3B4455;\n",
              "      fill: #D2E3FC;\n",
              "    }\n",
              "\n",
              "    [theme=dark] .colab-df-convert:hover {\n",
              "      background-color: #434B5C;\n",
              "      box-shadow: 0px 1px 3px 1px rgba(0, 0, 0, 0.15);\n",
              "      filter: drop-shadow(0px 1px 2px rgba(0, 0, 0, 0.3));\n",
              "      fill: #FFFFFF;\n",
              "    }\n",
              "  </style>\n",
              "\n",
              "      <script>\n",
              "        const buttonEl =\n",
              "          document.querySelector('#df-aef442d4-b300-4cad-949d-82391c863cce button.colab-df-convert');\n",
              "        buttonEl.style.display =\n",
              "          google.colab.kernel.accessAllowed ? 'block' : 'none';\n",
              "\n",
              "        async function convertToInteractive(key) {\n",
              "          const element = document.querySelector('#df-aef442d4-b300-4cad-949d-82391c863cce');\n",
              "          const dataTable =\n",
              "            await google.colab.kernel.invokeFunction('convertToInteractive',\n",
              "                                                     [key], {});\n",
              "          if (!dataTable) return;\n",
              "\n",
              "          const docLinkHtml = 'Like what you see? Visit the ' +\n",
              "            '<a target=\"_blank\" href=https://colab.research.google.com/notebooks/data_table.ipynb>data table notebook</a>'\n",
              "            + ' to learn more about interactive tables.';\n",
              "          element.innerHTML = '';\n",
              "          dataTable['output_type'] = 'display_data';\n",
              "          await google.colab.output.renderOutput(dataTable, element);\n",
              "          const docLink = document.createElement('div');\n",
              "          docLink.innerHTML = docLinkHtml;\n",
              "          element.appendChild(docLink);\n",
              "        }\n",
              "      </script>\n",
              "    </div>\n",
              "  </div>\n",
              "  "
            ]
          },
          "metadata": {},
          "execution_count": 13
        }
      ]
    },
    {
      "cell_type": "markdown",
      "source": [
        "# 14. Mengubah atribut bertipe bilangan bulat int64 ke bilangan titik kambang float64, dan menampilkannya pada presisi 3 angka dibelakang koma"
      ],
      "metadata": {
        "id": "8Myl_vrBqinv"
      }
    },
    {
      "cell_type": "code",
      "source": [
        "i = df.select_dtypes(include=['int64']).columns\n",
        "df[i] = df[i].astype(float)\n",
        "pd.options.display.float_format = \"{:,.3f}\".format\n",
        "print(df[i])"
      ],
      "metadata": {
        "colab": {
          "base_uri": "https://localhost:8080/"
        },
        "id": "WQjO8LlCgQ5x",
        "outputId": "90657c72-a51e-490b-911f-bed56939e07b"
      },
      "execution_count": 14,
      "outputs": [
        {
          "output_type": "stream",
          "name": "stdout",
          "text": [
            "              Volume\n",
            "0     10,924,800.000\n",
            "1     17,068,800.000\n",
            "2     18,508,800.000\n",
            "3     11,174,400.000\n",
            "4     12,172,800.000\n",
            "...              ...\n",
            "10356 26,822,000.000\n",
            "10357 25,768,400.000\n",
            "10358 24,927,700.000\n",
            "10359 24,607,000.000\n",
            "10360 23,990,400.000\n",
            "\n",
            "[10361 rows x 1 columns]\n"
          ]
        }
      ]
    },
    {
      "cell_type": "markdown",
      "source": [
        "# 15. Menampilkan 10 record pertama dari atribut bertipe angka"
      ],
      "metadata": {
        "id": "lqcwkokFrBQR"
      }
    },
    {
      "cell_type": "code",
      "source": [
        "df[angka].head(10)"
      ],
      "metadata": {
        "colab": {
          "base_uri": "https://localhost:8080/",
          "height": 363
        },
        "id": "JWo9VYvpiCJu",
        "outputId": "bde8e7a1-c2d9-432c-ea54-bddafd7d7fff"
      },
      "execution_count": 15,
      "outputs": [
        {
          "output_type": "execute_result",
          "data": {
            "text/plain": [
              "   Open  High   Low  Close  Adj Close         Volume\n",
              "0 0.326 0.331 0.326  0.326      0.200 10,924,800.000\n",
              "1 0.326 0.328 0.323  0.323      0.198 17,068,800.000\n",
              "2 0.331 0.336 0.331  0.331      0.203 18,508,800.000\n",
              "3 0.331 0.335 0.329  0.329      0.202 11,174,400.000\n",
              "4 0.323 0.323 0.318  0.318      0.195 12,172,800.000\n",
              "5 0.316 0.316 0.311  0.311      0.191  8,966,400.000\n",
              "6 0.312 0.318 0.312  0.312      0.192 11,347,200.000\n",
              "7 0.312 0.315 0.310  0.310      0.190 16,262,400.000\n",
              "8 0.305 0.305 0.299  0.299      0.184 26,918,400.000\n",
              "9 0.311 0.316 0.311  0.311      0.191 20,102,400.000"
            ],
            "text/html": [
              "\n",
              "  <div id=\"df-98e25ceb-a38c-47d1-b038-690a2c52f917\">\n",
              "    <div class=\"colab-df-container\">\n",
              "      <div>\n",
              "<style scoped>\n",
              "    .dataframe tbody tr th:only-of-type {\n",
              "        vertical-align: middle;\n",
              "    }\n",
              "\n",
              "    .dataframe tbody tr th {\n",
              "        vertical-align: top;\n",
              "    }\n",
              "\n",
              "    .dataframe thead th {\n",
              "        text-align: right;\n",
              "    }\n",
              "</style>\n",
              "<table border=\"1\" class=\"dataframe\">\n",
              "  <thead>\n",
              "    <tr style=\"text-align: right;\">\n",
              "      <th></th>\n",
              "      <th>Open</th>\n",
              "      <th>High</th>\n",
              "      <th>Low</th>\n",
              "      <th>Close</th>\n",
              "      <th>Adj Close</th>\n",
              "      <th>Volume</th>\n",
              "    </tr>\n",
              "  </thead>\n",
              "  <tbody>\n",
              "    <tr>\n",
              "      <th>0</th>\n",
              "      <td>0.326</td>\n",
              "      <td>0.331</td>\n",
              "      <td>0.326</td>\n",
              "      <td>0.326</td>\n",
              "      <td>0.200</td>\n",
              "      <td>10,924,800.000</td>\n",
              "    </tr>\n",
              "    <tr>\n",
              "      <th>1</th>\n",
              "      <td>0.326</td>\n",
              "      <td>0.328</td>\n",
              "      <td>0.323</td>\n",
              "      <td>0.323</td>\n",
              "      <td>0.198</td>\n",
              "      <td>17,068,800.000</td>\n",
              "    </tr>\n",
              "    <tr>\n",
              "      <th>2</th>\n",
              "      <td>0.331</td>\n",
              "      <td>0.336</td>\n",
              "      <td>0.331</td>\n",
              "      <td>0.331</td>\n",
              "      <td>0.203</td>\n",
              "      <td>18,508,800.000</td>\n",
              "    </tr>\n",
              "    <tr>\n",
              "      <th>3</th>\n",
              "      <td>0.331</td>\n",
              "      <td>0.335</td>\n",
              "      <td>0.329</td>\n",
              "      <td>0.329</td>\n",
              "      <td>0.202</td>\n",
              "      <td>11,174,400.000</td>\n",
              "    </tr>\n",
              "    <tr>\n",
              "      <th>4</th>\n",
              "      <td>0.323</td>\n",
              "      <td>0.323</td>\n",
              "      <td>0.318</td>\n",
              "      <td>0.318</td>\n",
              "      <td>0.195</td>\n",
              "      <td>12,172,800.000</td>\n",
              "    </tr>\n",
              "    <tr>\n",
              "      <th>5</th>\n",
              "      <td>0.316</td>\n",
              "      <td>0.316</td>\n",
              "      <td>0.311</td>\n",
              "      <td>0.311</td>\n",
              "      <td>0.191</td>\n",
              "      <td>8,966,400.000</td>\n",
              "    </tr>\n",
              "    <tr>\n",
              "      <th>6</th>\n",
              "      <td>0.312</td>\n",
              "      <td>0.318</td>\n",
              "      <td>0.312</td>\n",
              "      <td>0.312</td>\n",
              "      <td>0.192</td>\n",
              "      <td>11,347,200.000</td>\n",
              "    </tr>\n",
              "    <tr>\n",
              "      <th>7</th>\n",
              "      <td>0.312</td>\n",
              "      <td>0.315</td>\n",
              "      <td>0.310</td>\n",
              "      <td>0.310</td>\n",
              "      <td>0.190</td>\n",
              "      <td>16,262,400.000</td>\n",
              "    </tr>\n",
              "    <tr>\n",
              "      <th>8</th>\n",
              "      <td>0.305</td>\n",
              "      <td>0.305</td>\n",
              "      <td>0.299</td>\n",
              "      <td>0.299</td>\n",
              "      <td>0.184</td>\n",
              "      <td>26,918,400.000</td>\n",
              "    </tr>\n",
              "    <tr>\n",
              "      <th>9</th>\n",
              "      <td>0.311</td>\n",
              "      <td>0.316</td>\n",
              "      <td>0.311</td>\n",
              "      <td>0.311</td>\n",
              "      <td>0.191</td>\n",
              "      <td>20,102,400.000</td>\n",
              "    </tr>\n",
              "  </tbody>\n",
              "</table>\n",
              "</div>\n",
              "      <button class=\"colab-df-convert\" onclick=\"convertToInteractive('df-98e25ceb-a38c-47d1-b038-690a2c52f917')\"\n",
              "              title=\"Convert this dataframe to an interactive table.\"\n",
              "              style=\"display:none;\">\n",
              "        \n",
              "  <svg xmlns=\"http://www.w3.org/2000/svg\" height=\"24px\"viewBox=\"0 0 24 24\"\n",
              "       width=\"24px\">\n",
              "    <path d=\"M0 0h24v24H0V0z\" fill=\"none\"/>\n",
              "    <path d=\"M18.56 5.44l.94 2.06.94-2.06 2.06-.94-2.06-.94-.94-2.06-.94 2.06-2.06.94zm-11 1L8.5 8.5l.94-2.06 2.06-.94-2.06-.94L8.5 2.5l-.94 2.06-2.06.94zm10 10l.94 2.06.94-2.06 2.06-.94-2.06-.94-.94-2.06-.94 2.06-2.06.94z\"/><path d=\"M17.41 7.96l-1.37-1.37c-.4-.4-.92-.59-1.43-.59-.52 0-1.04.2-1.43.59L10.3 9.45l-7.72 7.72c-.78.78-.78 2.05 0 2.83L4 21.41c.39.39.9.59 1.41.59.51 0 1.02-.2 1.41-.59l7.78-7.78 2.81-2.81c.8-.78.8-2.07 0-2.86zM5.41 20L4 18.59l7.72-7.72 1.47 1.35L5.41 20z\"/>\n",
              "  </svg>\n",
              "      </button>\n",
              "      \n",
              "  <style>\n",
              "    .colab-df-container {\n",
              "      display:flex;\n",
              "      flex-wrap:wrap;\n",
              "      gap: 12px;\n",
              "    }\n",
              "\n",
              "    .colab-df-convert {\n",
              "      background-color: #E8F0FE;\n",
              "      border: none;\n",
              "      border-radius: 50%;\n",
              "      cursor: pointer;\n",
              "      display: none;\n",
              "      fill: #1967D2;\n",
              "      height: 32px;\n",
              "      padding: 0 0 0 0;\n",
              "      width: 32px;\n",
              "    }\n",
              "\n",
              "    .colab-df-convert:hover {\n",
              "      background-color: #E2EBFA;\n",
              "      box-shadow: 0px 1px 2px rgba(60, 64, 67, 0.3), 0px 1px 3px 1px rgba(60, 64, 67, 0.15);\n",
              "      fill: #174EA6;\n",
              "    }\n",
              "\n",
              "    [theme=dark] .colab-df-convert {\n",
              "      background-color: #3B4455;\n",
              "      fill: #D2E3FC;\n",
              "    }\n",
              "\n",
              "    [theme=dark] .colab-df-convert:hover {\n",
              "      background-color: #434B5C;\n",
              "      box-shadow: 0px 1px 3px 1px rgba(0, 0, 0, 0.15);\n",
              "      filter: drop-shadow(0px 1px 2px rgba(0, 0, 0, 0.3));\n",
              "      fill: #FFFFFF;\n",
              "    }\n",
              "  </style>\n",
              "\n",
              "      <script>\n",
              "        const buttonEl =\n",
              "          document.querySelector('#df-98e25ceb-a38c-47d1-b038-690a2c52f917 button.colab-df-convert');\n",
              "        buttonEl.style.display =\n",
              "          google.colab.kernel.accessAllowed ? 'block' : 'none';\n",
              "\n",
              "        async function convertToInteractive(key) {\n",
              "          const element = document.querySelector('#df-98e25ceb-a38c-47d1-b038-690a2c52f917');\n",
              "          const dataTable =\n",
              "            await google.colab.kernel.invokeFunction('convertToInteractive',\n",
              "                                                     [key], {});\n",
              "          if (!dataTable) return;\n",
              "\n",
              "          const docLinkHtml = 'Like what you see? Visit the ' +\n",
              "            '<a target=\"_blank\" href=https://colab.research.google.com/notebooks/data_table.ipynb>data table notebook</a>'\n",
              "            + ' to learn more about interactive tables.';\n",
              "          element.innerHTML = '';\n",
              "          dataTable['output_type'] = 'display_data';\n",
              "          await google.colab.output.renderOutput(dataTable, element);\n",
              "          const docLink = document.createElement('div');\n",
              "          docLink.innerHTML = docLinkHtml;\n",
              "          element.appendChild(docLink);\n",
              "        }\n",
              "      </script>\n",
              "    </div>\n",
              "  </div>\n",
              "  "
            ]
          },
          "metadata": {},
          "execution_count": 15
        }
      ]
    },
    {
      "cell_type": "markdown",
      "source": [
        "# 16. Menyimpan atribut bertipe angka ke dalam file csv baru"
      ],
      "metadata": {
        "id": "FWDQEBylsdUr"
      }
    },
    {
      "cell_type": "code",
      "source": [
        "df[angka].to_csv('Atribut_angka.csv', index=False)"
      ],
      "metadata": {
        "id": "Mi826nc-iGHw"
      },
      "execution_count": 16,
      "outputs": []
    }
  ]
}