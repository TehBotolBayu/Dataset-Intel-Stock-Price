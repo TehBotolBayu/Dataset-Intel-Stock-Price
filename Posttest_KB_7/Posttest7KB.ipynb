{
  "nbformat": 4,
  "nbformat_minor": 0,
  "metadata": {
    "colab": {
      "provenance": []
    },
    "kernelspec": {
      "name": "python3",
      "display_name": "Python 3"
    },
    "language_info": {
      "name": "python"
    }
  },
  "cells": [
    {
      "cell_type": "markdown",
      "source": [
        "# **Import library tensorflow**"
      ],
      "metadata": {
        "id": "B2Nxq73jo3SR"
      }
    },
    {
      "cell_type": "code",
      "execution_count": 48,
      "metadata": {
        "id": "jtp_GKIabD1z"
      },
      "outputs": [],
      "source": [
        "import tensorflow as tf"
      ]
    },
    {
      "cell_type": "markdown",
      "source": [
        "# **Membuat tensor random dengan dimensi (5, 5)**"
      ],
      "metadata": {
        "id": "5SVNG94Xo6xD"
      }
    },
    {
      "cell_type": "code",
      "source": [
        "random_tensor = tf.random.normal([5, 5], dtype=float, stddev = 1, mean=0.5, seed=5)\n",
        "random_tensor.numpy()"
      ],
      "metadata": {
        "colab": {
          "base_uri": "https://localhost:8080/"
        },
        "id": "bdIHPhSBbG-l",
        "outputId": "84a55774-0163-45b2-a080-e7cbfc63d629"
      },
      "execution_count": 49,
      "outputs": [
        {
          "output_type": "execute_result",
          "data": {
            "text/plain": [
              "array([[ 0.53974456,  1.0504236 ,  1.5510736 , -0.82870233,  1.1358536 ],\n",
              "       [ 1.0551676 ,  1.1375024 ,  0.3888693 , -0.16569763, -0.13128918],\n",
              "       [ 1.608872  ,  0.44706893, -0.44347942,  2.0170941 ,  0.7321839 ],\n",
              "       [-2.4313595 , -0.26565975,  1.530392  ,  1.8295895 ,  0.46149746],\n",
              "       [ 0.9867941 ,  0.22037265, -1.0986222 ,  1.3417094 ,  2.667009  ]],\n",
              "      dtype=float32)"
            ]
          },
          "metadata": {},
          "execution_count": 49
        }
      ]
    },
    {
      "cell_type": "markdown",
      "source": [
        "# **Membuat tensor berisi bilangan prima dengan dimensi (5, 5)**"
      ],
      "metadata": {
        "id": "iRg2FUIJpAm1"
      }
    },
    {
      "cell_type": "markdown",
      "source": [
        "### Membuat list berisi bilangan prima kemudian mengubahnya ke tensor berdimensi (5, 5)"
      ],
      "metadata": {
        "id": "vi7ykPB1pFyq"
      }
    },
    {
      "cell_type": "code",
      "source": [
        "prima = []\n",
        "a = 2;\n",
        "i = 0\n",
        "while i < 25:\n",
        "  prime = True\n",
        "  j = 2\n",
        "  while j*j <= a:\n",
        "    if(a%j==0):\n",
        "      prime = False\n",
        "      break\n",
        "    j+=1\n",
        "  if(prime):\n",
        "    prima.append(a)\n",
        "    i+=1\n",
        "  a+=1\n",
        "\n",
        "prime_tensor = tf.convert_to_tensor(prima, dtype=float)\n",
        "prime_tensor = tf.reshape(prime_tensor, [5, 5])\n",
        "prime_tensor.numpy()"
      ],
      "metadata": {
        "id": "gUclHnFAbhxM",
        "colab": {
          "base_uri": "https://localhost:8080/"
        },
        "outputId": "072225e3-699e-4b17-f4e2-9b2a43c25708"
      },
      "execution_count": 50,
      "outputs": [
        {
          "output_type": "execute_result",
          "data": {
            "text/plain": [
              "array([[ 2.,  3.,  5.,  7., 11.],\n",
              "       [13., 17., 19., 23., 29.],\n",
              "       [31., 37., 41., 43., 47.],\n",
              "       [53., 59., 61., 67., 71.],\n",
              "       [73., 79., 83., 89., 97.]], dtype=float32)"
            ]
          },
          "metadata": {},
          "execution_count": 50
        }
      ]
    },
    {
      "cell_type": "markdown",
      "source": [
        "# **Menampilkan dimensi dari random_tensor dan prime_tensor**"
      ],
      "metadata": {
        "id": "Q2mxLrtTpUX7"
      }
    },
    {
      "cell_type": "code",
      "source": [
        "print(\"Dimesi random_tensor: \", random_tensor.shape)\n",
        "print(\"Dimesi prime_tensor: \", prime_tensor.shape)"
      ],
      "metadata": {
        "colab": {
          "base_uri": "https://localhost:8080/"
        },
        "id": "LpXZPcK0jAaV",
        "outputId": "6db6b35d-5784-4ef5-cf77-31f5335edf2e"
      },
      "execution_count": 51,
      "outputs": [
        {
          "output_type": "stream",
          "name": "stdout",
          "text": [
            "Dimesi random_tensor:  (5, 5)\n",
            "Dimesi prime_tensor:  (5, 5)\n"
          ]
        }
      ]
    },
    {
      "cell_type": "markdown",
      "source": [
        "# **Menampilkan minimal 5 perhitungan aritmatika dari random_tensor dan prime_tensor**"
      ],
      "metadata": {
        "id": "XEzpRPS3osGI"
      }
    },
    {
      "cell_type": "code",
      "source": [
        "print(\"Penjumlahan: \\n\", tf.add(random_tensor, prime_tensor).numpy())\n",
        "print('')\n",
        "print(\"Pengurangan: \\n\", tf.subtract(random_tensor, prime_tensor).numpy())\n",
        "print('')\n",
        "print(\"Perkalian: \\n\", tf.multiply(random_tensor, prime_tensor).numpy())\n",
        "print('')\n",
        "print(\"Pembagian: \\n\", tf.divide(random_tensor, prime_tensor).numpy())\n",
        "print('')\n",
        "print(\"Pemangkatan: \\n\", tf.pow(random_tensor, prime_tensor).numpy())\n",
        "print('')\n",
        "print(\"Akar random_tensor: \\n\", tf.math.sqrt(random_tensor).numpy())\n",
        "print('')\n",
        "print(\"Akar prime_tensor: \\n\", tf.math.sqrt(prime_tensor).numpy())\n",
        "print('')\n",
        "print(\"Logaritma random_tensor: \\n\", tf.math.log(random_tensor).numpy())\n",
        "print('')\n",
        "print(\"Logaritma prime_tensor: \\n\", tf.math.log(prime_tensor).numpy())"
      ],
      "metadata": {
        "colab": {
          "base_uri": "https://localhost:8080/"
        },
        "id": "qyrU8EaYjtFn",
        "outputId": "e6a88020-bfc5-4ec9-cede-49261ed05e73"
      },
      "execution_count": 52,
      "outputs": [
        {
          "output_type": "stream",
          "name": "stdout",
          "text": [
            "Penjumlahan: \n",
            " [[ 2.5397446  4.0504236  6.5510736  6.1712976 12.135854 ]\n",
            " [14.055167  18.137503  19.38887   22.834303  28.868711 ]\n",
            " [32.60887   37.447067  40.556522  45.017094  47.732185 ]\n",
            " [50.56864   58.73434   62.53039   68.82959   71.461494 ]\n",
            " [73.98679   79.220375  81.901375  90.34171   99.66701  ]]\n",
            "\n",
            "Pengurangan: \n",
            " [[ -1.4602554  -1.9495764  -3.4489264  -7.8287024  -9.864146 ]\n",
            " [-11.944833  -15.862497  -18.61113   -23.165697  -29.131289 ]\n",
            " [-29.391129  -36.552933  -41.443478  -40.982906  -46.267815 ]\n",
            " [-55.43136   -59.26566   -59.46961   -65.17041   -70.538506 ]\n",
            " [-72.01321   -78.779625  -84.098625  -87.65829   -94.33299  ]]\n",
            "\n",
            "Perkalian: \n",
            " [[   1.0794891    3.1512709    7.7553678   -5.800916    12.4943905]\n",
            " [  13.717178    19.337542     7.3885164   -3.8110456   -3.8073864]\n",
            " [  49.875034    16.54155    -18.182655    86.73505     34.412643 ]\n",
            " [-128.86206    -15.673925    93.35391    122.5825      32.76632  ]\n",
            " [  72.03597     17.40944    -91.185646   119.41213    258.6999   ]]\n",
            "\n",
            "Pembagian: \n",
            " [[ 0.26987228  0.3501412   0.3102147  -0.11838605  0.10325942]\n",
            " [ 0.08116674  0.06691191  0.0204668  -0.00720424 -0.00452721]\n",
            " [ 0.0518991   0.01208294 -0.01081657  0.04690916  0.01557838]\n",
            " [-0.04587471 -0.00450271  0.02508839  0.02730731  0.00649996]\n",
            " [ 0.01351773  0.00278953 -0.01323641  0.01507539  0.02749494]]\n",
            "\n",
            "Pemangkatan: \n",
            " [[ 2.9132420e-01  1.1590267e+00  8.9776354e+00 -2.6840457e-01\n",
            "   4.0601883e+00]\n",
            " [ 2.0099192e+00  8.9369574e+00  1.6079376e-08 -1.1073250e-18\n",
            "  -2.6831165e-26]\n",
            " [ 2.5244500e+06  1.1583934e-13 -3.3251579e-15  1.2683093e+13\n",
            "   4.3365813e-07]\n",
            " [-2.8184265e+20 -1.0844756e-34  1.8748424e+11  3.7817685e+17\n",
            "   1.4322574e-24]\n",
            " [ 3.7891185e-01  0.0000000e+00 -2.4570549e+03  2.2993361e+11\n",
            "             inf]]\n",
            "\n",
            "Akar random_tensor: \n",
            " [[0.7346731  1.0249017  1.245421          nan 1.0657643 ]\n",
            " [1.0272135  1.0665376  0.62359387        nan        nan]\n",
            " [1.2684132  0.66863215        nan 1.4202443  0.8556774 ]\n",
            " [       nan        nan 1.2370901  1.3526232  0.679336  ]\n",
            " [0.9933751  0.46943864        nan 1.1583217  1.633098  ]]\n",
            "\n",
            "Akar prime_tensor: \n",
            " [[1.4142135 1.7320508 2.236068  2.6457512 3.3166249]\n",
            " [3.6055512 4.1231055 4.358899  4.7958317 5.3851647]\n",
            " [5.5677643 6.0827627 6.4031243 6.5574384 6.8556547]\n",
            " [7.28011   7.6811457 7.81025   8.185352  8.426149 ]\n",
            " [8.5440035 8.888194  9.110434  9.433981  9.848858 ]]\n",
            "\n",
            "Logaritma random_tensor: \n",
            " [[-0.6166593   0.04919354  0.43894732         nan  0.12738448]\n",
            " [ 0.05369958  0.12883501 -0.944512           nan         nan]\n",
            " [ 0.47553337 -0.8050425          nan  0.70165795 -0.3117236 ]\n",
            " [        nan         nan  0.42552394  0.60409164 -0.7732787 ]\n",
            " [-0.01329386 -1.5124353          nan  0.29394445  0.9809577 ]]\n",
            "\n",
            "Logaritma prime_tensor: \n",
            " [[0.6931472 1.0986123 1.609438  1.9459102 2.3978953]\n",
            " [2.5649493 2.8332133 2.944439  3.1354942 3.3672957]\n",
            " [3.4339871 3.610918  3.713572  3.7612002 3.8501477]\n",
            " [3.9702919 4.0775375 4.1108737 4.204693  4.26268  ]\n",
            " [4.2904596 4.3694477 4.4188404 4.4886365 4.574711 ]]\n"
          ]
        }
      ]
    },
    {
      "cell_type": "markdown",
      "source": [
        "# **Menampilkan nilai minimum dan maksimum dari random_tensor**"
      ],
      "metadata": {
        "id": "NQvG3RE6pc5U"
      }
    },
    {
      "cell_type": "markdown",
      "source": [
        "### Baris dan kolom maksimum"
      ],
      "metadata": {
        "id": "tLNh7Tvnpijh"
      }
    },
    {
      "cell_type": "code",
      "source": [
        "print(\"Baris maksimum \", tf.argmax(random_tensor, axis=0).numpy())\n",
        "print(\"Kolom maksimum \", tf.argmax(random_tensor, axis=1).numpy())"
      ],
      "metadata": {
        "colab": {
          "base_uri": "https://localhost:8080/"
        },
        "id": "MlTuiB0Zlusu",
        "outputId": "8783d548-d25a-4ccf-f345-9ba951abd786"
      },
      "execution_count": 53,
      "outputs": [
        {
          "output_type": "stream",
          "name": "stdout",
          "text": [
            "Baris maksimum  [2 1 0 2 4]\n",
            "Kolom maksimum  [2 1 3 3 4]\n"
          ]
        }
      ]
    },
    {
      "cell_type": "markdown",
      "source": [
        "### Baris dan Kolom minimum"
      ],
      "metadata": {
        "id": "TwpqVkThpqQ0"
      }
    },
    {
      "cell_type": "code",
      "source": [
        "print(\"Baris minimum \", tf.argmin(random_tensor, axis=0).numpy())\n",
        "print(\"Kolom miniimum \", tf.argmin(random_tensor, axis=1).numpy())"
      ],
      "metadata": {
        "colab": {
          "base_uri": "https://localhost:8080/"
        },
        "id": "OdapHAQBmLBL",
        "outputId": "c2991a92-e200-405d-9645-d97b9112979a"
      },
      "execution_count": 54,
      "outputs": [
        {
          "output_type": "stream",
          "name": "stdout",
          "text": [
            "Baris minimum  [3 3 4 0 1]\n",
            "Kolom miniimum  [3 3 2 0 2]\n"
          ]
        }
      ]
    },
    {
      "cell_type": "markdown",
      "source": [
        "# **Menampilkan hasil penggabungan varaiabel random_tensor dan prime_tensor**"
      ],
      "metadata": {
        "id": "SGvLxNjnoDE1"
      }
    },
    {
      "cell_type": "markdown",
      "source": [
        "## Menggabungkan berdasarkan baris"
      ],
      "metadata": {
        "id": "yNtxzEqtoVm4"
      }
    },
    {
      "cell_type": "code",
      "source": [
        "tf.concat([random_tensor,prime_tensor], axis=0).numpy()"
      ],
      "metadata": {
        "colab": {
          "base_uri": "https://localhost:8080/"
        },
        "id": "cHoEagQQmPSw",
        "outputId": "25e5c828-9df0-45c4-9711-1235cae5027d"
      },
      "execution_count": 55,
      "outputs": [
        {
          "output_type": "execute_result",
          "data": {
            "text/plain": [
              "array([[ 0.53974456,  1.0504236 ,  1.5510736 , -0.82870233,  1.1358536 ],\n",
              "       [ 1.0551676 ,  1.1375024 ,  0.3888693 , -0.16569763, -0.13128918],\n",
              "       [ 1.608872  ,  0.44706893, -0.44347942,  2.0170941 ,  0.7321839 ],\n",
              "       [-2.4313595 , -0.26565975,  1.530392  ,  1.8295895 ,  0.46149746],\n",
              "       [ 0.9867941 ,  0.22037265, -1.0986222 ,  1.3417094 ,  2.667009  ],\n",
              "       [ 2.        ,  3.        ,  5.        ,  7.        , 11.        ],\n",
              "       [13.        , 17.        , 19.        , 23.        , 29.        ],\n",
              "       [31.        , 37.        , 41.        , 43.        , 47.        ],\n",
              "       [53.        , 59.        , 61.        , 67.        , 71.        ],\n",
              "       [73.        , 79.        , 83.        , 89.        , 97.        ]],\n",
              "      dtype=float32)"
            ]
          },
          "metadata": {},
          "execution_count": 55
        }
      ]
    },
    {
      "cell_type": "markdown",
      "source": [
        "## Menggabungkan berdasarkan kolom"
      ],
      "metadata": {
        "id": "I-M_XmDLoZFM"
      }
    },
    {
      "cell_type": "code",
      "source": [
        "tf.concat([random_tensor,prime_tensor], axis=1).numpy()"
      ],
      "metadata": {
        "colab": {
          "base_uri": "https://localhost:8080/"
        },
        "id": "UlLhe1bhmU3F",
        "outputId": "55e8b7c8-b7ff-4078-ee9a-36b3a252a236"
      },
      "execution_count": 56,
      "outputs": [
        {
          "output_type": "execute_result",
          "data": {
            "text/plain": [
              "array([[ 0.53974456,  1.0504236 ,  1.5510736 , -0.82870233,  1.1358536 ,\n",
              "         2.        ,  3.        ,  5.        ,  7.        , 11.        ],\n",
              "       [ 1.0551676 ,  1.1375024 ,  0.3888693 , -0.16569763, -0.13128918,\n",
              "        13.        , 17.        , 19.        , 23.        , 29.        ],\n",
              "       [ 1.608872  ,  0.44706893, -0.44347942,  2.0170941 ,  0.7321839 ,\n",
              "        31.        , 37.        , 41.        , 43.        , 47.        ],\n",
              "       [-2.4313595 , -0.26565975,  1.530392  ,  1.8295895 ,  0.46149746,\n",
              "        53.        , 59.        , 61.        , 67.        , 71.        ],\n",
              "       [ 0.9867941 ,  0.22037265, -1.0986222 ,  1.3417094 ,  2.667009  ,\n",
              "        73.        , 79.        , 83.        , 89.        , 97.        ]],\n",
              "      dtype=float32)"
            ]
          },
          "metadata": {},
          "execution_count": 56
        }
      ]
    },
    {
      "cell_type": "markdown",
      "source": [
        "# **Menampilkan hasil sorting secara descending dari random_tensor dan prime_tensor**"
      ],
      "metadata": {
        "id": "nPiItZYsoev5"
      }
    },
    {
      "cell_type": "code",
      "source": [
        "print(\"Sort random_tensor secara descending:\\n\", tf.sort(random_tensor, direction=\"DESCENDING\").numpy())\n",
        "print('')\n",
        "print(\"Sort prime_tensor secara descending:\\n\", tf.sort(prime_tensor, direction=\"DESCENDING\").numpy())"
      ],
      "metadata": {
        "colab": {
          "base_uri": "https://localhost:8080/"
        },
        "id": "fJ6pjDjWmZai",
        "outputId": "3b7967b2-feb1-48c3-c37b-2b12008bb8fb"
      },
      "execution_count": 57,
      "outputs": [
        {
          "output_type": "stream",
          "name": "stdout",
          "text": [
            "Sort random_tensor secara descending:\n",
            " [[ 1.5510736   1.1358536   1.0504236   0.53974456 -0.82870233]\n",
            " [ 1.1375024   1.0551676   0.3888693  -0.13128918 -0.16569763]\n",
            " [ 2.0170941   1.608872    0.7321839   0.44706893 -0.44347942]\n",
            " [ 1.8295895   1.530392    0.46149746 -0.26565975 -2.4313595 ]\n",
            " [ 2.667009    1.3417094   0.9867941   0.22037265 -1.0986222 ]]\n",
            "\n",
            "Sort prime_tensor secara descending:\n",
            " [[11.  7.  5.  3.  2.]\n",
            " [29. 23. 19. 17. 13.]\n",
            " [47. 43. 41. 37. 31.]\n",
            " [71. 67. 61. 59. 53.]\n",
            " [97. 89. 83. 79. 73.]]\n"
          ]
        }
      ]
    }
  ]
}